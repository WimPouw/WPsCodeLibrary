{
 "cells": [
  {
   "cell_type": "code",
   "execution_count": 27,
   "id": "76c37085",
   "metadata": {},
   "outputs": [],
   "source": [
    "%config Completer.use_jedi = False\n",
    "import cv2\n",
    "import mediapipe\n",
    "import pandas as pd\n",
    "import numpy as np\n",
    "import csv\n",
    "  \n",
    "#initialize modules\n",
    "drawingModule = mediapipe.solutions.drawing_utils\n",
    "handsModule = mediapipe.solutions.hands"
   ]
  },
  {
   "cell_type": "code",
   "execution_count": 28,
   "id": "8fe51a29",
   "metadata": {},
   "outputs": [],
   "source": [
    "#list all videos in mediafolder\n",
    "from os import listdir\n",
    "from os.path import isfile, join\n",
    "mypath = \"./MediaToAnalyze/\"\n",
    "onlyfiles = [f for f in listdir(mypath) if isfile(join(mypath, f))]\n",
    "#time series output folder\n",
    "foldtime = \"./Timeseries_Output/\""
   ]
  },
  {
   "cell_type": "code",
   "execution_count": null,
   "id": "69e5fe30",
   "metadata": {},
   "outputs": [],
   "source": []
  },
  {
   "cell_type": "code",
   "execution_count": 29,
   "id": "4e03469d",
   "metadata": {},
   "outputs": [],
   "source": [
    "#some preperatory functions and lists for saving the data\n",
    "\n",
    "\n",
    "#take some google classification object and convert it into a string\n",
    "def makegoginto_str(gogobj):\n",
    "    gogobj = str(gogobj).strip(\"[]\")\n",
    "    gogobj = gogobj.split(\"\\n\")\n",
    "    return(gogobj[:-1]) #ignore last element as this has nothing\n",
    "\n",
    "#Hand landmarks\n",
    "markers = ['WRIST', 'THUMB_CMC', 'THUMB_MCP', 'THUMB_IP', 'THUMB_TIP', \n",
    " 'INDEX_MCP', 'INDEX_PIP', 'INDEX_DIP', 'INDEX_TIP', \n",
    " 'MIDDLE_MCP', 'MIDDLE_PIP', 'MIDDLE_DIP','MIDDLE_TIP', \n",
    " 'RING_MCP', 'RING_TIP', 'RING_DIP', 'RING_TIP', \n",
    " 'PINKY_MCP', 'PINKY_PIP', 'PINKY_DIP', 'PINKY_TIP']\n",
    "\n",
    "#make the stringifyd position traces into clean values\n",
    "def listpostions(newsamplemaerks):\n",
    "    tracking_p = []\n",
    "    for value in newsamplelmarks:\n",
    "        stripped = value.split(':', 1)[1]\n",
    "        stripped = stripped.strip() #remove spaces in the string if present\n",
    "        tracking_p.append(stripped) #add to this list  \n",
    "    return(tracking_p)\n",
    "\n",
    "#a function that only retrieves the numerical info in a string\n",
    "def only_numerics(seq):\n",
    "    seq_type= type(seq)\n",
    "    return seq_type().join(filter(seq_type.isdigit, seq))"
   ]
  },
  {
   "cell_type": "code",
   "execution_count": 31,
   "id": "8dfb4e1e",
   "metadata": {},
   "outputs": [
    {
     "name": "stdout",
     "output_type": "stream",
     "text": [
      "1440.0 1080.0 29.97017053449149\n"
     ]
    }
   ],
   "source": [
    "#set the font for the text on the image\n",
    "font                   = cv2.FONT_HERSHEY_SIMPLEX\n",
    "fontScale              = 0.5\n",
    "fontColor              = (255,255,255)\n",
    "lineType               = 2\n",
    "\n",
    "\n",
    "for ff in onlyfiles:\n",
    "    capture = cv2.VideoCapture(mypath+ff)\n",
    "    frameWidth = capture.get(cv2.CAP_PROP_FRAME_WIDTH)\n",
    "    frameHeight = capture.get(cv2.CAP_PROP_FRAME_HEIGHT)\n",
    "    fps = capture.get(cv2.CAP_PROP_FPS)\n",
    "\n",
    "    print(frameWidth, frameHeight, fps )\n",
    "\n",
    "    #hands tracking with keypoints save!\n",
    "    #make a video file\n",
    "    samplerate = fps #make the same as current \n",
    "    fourcc = cv2.VideoWriter_fourcc(*'XVID') #(*'XVID')\n",
    "    out = cv2.VideoWriter('Videotracking_output/'+ff[:-4]+'.avi', fourcc, fps= samplerate, frameSize = (int(frameWidth), int(frameHeight))) #make sure that frameheight/width is the same a original\n",
    "\n",
    "    #make a variable list with x, y, z, info where data is appended to\n",
    "    markerxyz = []\n",
    "    for mark in markers:\n",
    "        for pos in ['X', 'Y', 'Z']:\n",
    "            nm = pos + \"_\" + mark\n",
    "            markerxyz.append(nm)\n",
    "    addvariable = ['index', 'confidence', 'hand', 'time']\n",
    "    addvariable.extend(markerxyz)\n",
    "\n",
    "    time = 0\n",
    "    timeseries = [addvariable]\n",
    "    #MAIN ROUTINE\n",
    "    with handsModule.Hands(static_image_mode=False, min_detection_confidence=0.5, min_tracking_confidence=0.75, max_num_hands=6) as hands:\n",
    "         while (True):\n",
    "            ret, frame = capture.read()\n",
    "            if ret == True:\n",
    "                results = hands.process(cv2.cvtColor(frame, cv2.COLOR_BGR2RGB))\n",
    "                if results.multi_hand_landmarks != None:\n",
    "                    for handLandmarks, handinfo, in zip(results.multi_hand_landmarks,results.multi_handedness):\n",
    "                        newsamplelmarks = makegoginto_str(handLandmarks.landmark)\n",
    "                        newsamplelmarks = listpostions(newsamplelmarks)\n",
    "                        newsampleinfo = makegoginto_str(handinfo) #get info the hands\n",
    "                        fuldataslice = [newsampleinfo[1], newsampleinfo[2], newsampleinfo[3]]\n",
    "                        fuldataslice.extend([str(time)]) #add time\n",
    "                        fuldataslice.extend(newsamplelmarks) #add positions\n",
    "                        timeseries.append(fuldataslice)\n",
    "                        #get information about hand index [0], hand confidence [1], handedness [2]              \n",
    "                        for point in handsModule.HandLandmark:\n",
    "                            normalizedLandmark = handLandmarks.landmark[point]\n",
    "                            pixelCoordinatesLandmark = drawingModule._normalized_to_pixel_coordinates(normalizedLandmark.x, normalizedLandmark.y, frameWidth, frameHeight)\n",
    "                            cv2.circle(frame, pixelCoordinatesLandmark, 5, (0, 255, 0), -1)\n",
    "                            #cv2.putText(frame, only_numerics(newsampleinfo[1]), pixelCoordinatesLandmark, font, fontScale, fontColor, lineType)\n",
    "                if results.multi_hand_landmarks == None:\n",
    "                    timeseries.append([\"NA\"]) #add a row of NAs\n",
    "                cv2.imshow('Test hand', frame)\n",
    "                out.write(frame)  #########################################comment this out if you dont wn\n",
    "                time = round(time+1000/samplerate)\n",
    "                if cv2.waitKey(1) == 27:\n",
    "                    break\n",
    "            if ret == False:\n",
    "                break\n",
    "    out.release()\n",
    "    capture.release()\n",
    "    cv2.destroyAllWindows()\n",
    "\n",
    "    ####################################################### data to be written row-wise in csv fil\n",
    "    data = timeseries\n",
    "\n",
    "    # opening the csv file in 'w+' mode\n",
    "    file = open(foldtime+ff[:-4]+'.csv', 'w+', newline ='')\n",
    "    #write it\n",
    "    with file:    \n",
    "        write = csv.writer(file)\n",
    "        write.writerows(data)"
   ]
  },
  {
   "cell_type": "code",
   "execution_count": 21,
   "id": "8478cf3b",
   "metadata": {},
   "outputs": [
    {
     "data": {
      "text/plain": [
       "<enum 'HandLandmark'>"
      ]
     },
     "execution_count": 21,
     "metadata": {},
     "output_type": "execute_result"
    }
   ],
   "source": []
  },
  {
   "cell_type": "code",
   "execution_count": 33,
   "id": "52096710",
   "metadata": {},
   "outputs": [
    {
     "data": {
      "text/plain": [
       "classification {\n",
       "  index: 0\n",
       "  score: 0.9994599223136902\n",
       "  label: \"Left\"\n",
       "}"
      ]
     },
     "execution_count": 33,
     "metadata": {},
     "output_type": "execute_result"
    }
   ],
   "source": []
  },
  {
   "cell_type": "code",
   "execution_count": 35,
   "id": "5e7893ac",
   "metadata": {},
   "outputs": [
    {
     "data": {
      "text/plain": [
       "'  label: \"Left\"'"
      ]
     },
     "execution_count": 35,
     "metadata": {},
     "output_type": "execute_result"
    }
   ],
   "source": []
  },
  {
   "cell_type": "code",
   "execution_count": null,
   "id": "87791538",
   "metadata": {},
   "outputs": [],
   "source": []
  },
  {
   "cell_type": "code",
   "execution_count": null,
   "id": "c4af1a2e",
   "metadata": {},
   "outputs": [],
   "source": []
  },
  {
   "cell_type": "code",
   "execution_count": null,
   "id": "ee9c0df8",
   "metadata": {},
   "outputs": [],
   "source": []
  },
  {
   "cell_type": "code",
   "execution_count": null,
   "id": "5ebda4fd",
   "metadata": {},
   "outputs": [],
   "source": []
  },
  {
   "cell_type": "code",
   "execution_count": null,
   "id": "c0b3220c",
   "metadata": {},
   "outputs": [],
   "source": []
  }
 ],
 "metadata": {
  "kernelspec": {
   "display_name": "Python 3",
   "language": "python",
   "name": "python3"
  },
  "language_info": {
   "codemirror_mode": {
    "name": "ipython",
    "version": 3
   },
   "file_extension": ".py",
   "mimetype": "text/x-python",
   "name": "python",
   "nbconvert_exporter": "python",
   "pygments_lexer": "ipython3",
   "version": "3.7.6"
  }
 },
 "nbformat": 4,
 "nbformat_minor": 5
}
