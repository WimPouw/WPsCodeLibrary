{
 "cells": [
  {
   "cell_type": "code",
   "execution_count": 1,
   "id": "85eaf065",
   "metadata": {},
   "outputs": [],
   "source": [
    "import cv2\n",
    "import mediapipe\n",
    "\n",
    "drawingModule = mediapipe.solutions.drawing_utils\n",
    "handsModule = mediapipe.solutions.hands"
   ]
  },
  {
   "cell_type": "code",
   "execution_count": null,
   "id": "8fb4187d",
   "metadata": {},
   "outputs": [],
   "source": [
    "with handsModule.Hands(static_image_mode=False, max_num_hands = 3) as hands:\n",
    "    image = cv2.imread(\"C:/Users/N/Desktop/hand.jpg\")"
   ]
  }
 ],
 "metadata": {
  "kernelspec": {
   "display_name": "Python 3",
   "language": "python",
   "name": "python3"
  },
  "language_info": {
   "codemirror_mode": {
    "name": "ipython",
    "version": 3
   },
   "file_extension": ".py",
   "mimetype": "text/x-python",
   "name": "python",
   "nbconvert_exporter": "python",
   "pygments_lexer": "ipython3",
   "version": "3.7.6"
  }
 },
 "nbformat": 4,
 "nbformat_minor": 5
}
