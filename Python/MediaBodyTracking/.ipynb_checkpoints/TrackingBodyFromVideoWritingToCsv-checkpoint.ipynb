{
 "cells": [
  {
   "cell_type": "code",
   "execution_count": 12,
   "id": "03a2b246",
   "metadata": {},
   "outputs": [],
   "source": [
    "#https://www.youtube.com/watch?v=NZde8Xt78Iw\n",
    "%config Completer.use_jedi = False\n",
    "import cv2\n",
    "import mediapipe\n",
    "import pandas as pd\n",
    "import numpy as np\n",
    "import csv\n",
    "  \n",
    " \n",
    "drawingModule = mediapipe.solutions.drawing_utils\n",
    "poseModule = mediapipe.solutions.pose"
   ]
  },
  {
   "cell_type": "code",
   "execution_count": 13,
   "id": "7cee562a",
   "metadata": {},
   "outputs": [],
   "source": [
    "#list all videos in mediafolder\n",
    "from os import listdir\n",
    "from os.path import isfile, join\n",
    "mypath = \"./MediaToAnalyze/\"\n",
    "onlyfiles = [f for f in listdir(mypath) if isfile(join(mypath, f))]\n",
    "#time series output folder\n",
    "foldtime = \"./Timeseries_Output/\""
   ]
  },
  {
   "cell_type": "code",
   "execution_count": 14,
   "id": "1fa006f5",
   "metadata": {},
   "outputs": [
    {
     "name": "stdout",
     "output_type": "stream",
     "text": [
      "1280.0 720.0 50.0\n"
     ]
    }
   ],
   "source": [
    "capture = cv2.VideoCapture(mypath+onlyfiles[0])\n",
    "frameWidth = capture.get(cv2.CAP_PROP_FRAME_WIDTH)\n",
    "frameHeight = capture.get(cv2.CAP_PROP_FRAME_HEIGHT)\n",
    "fps = capture.get(cv2.CAP_PROP_FPS)\n",
    "\n",
    "print(frameWidth, frameHeight, fps )"
   ]
  },
  {
   "cell_type": "code",
   "execution_count": 9,
   "id": "bc899b48",
   "metadata": {},
   "outputs": [],
   "source": [
    "#some preperatory functions and lists for saving the data\n",
    "\n",
    "\n",
    "#take some google classification object and convert it into a string\n",
    "def makegoginto_str(gogobj):\n",
    "    gogobj = str(gogobj).strip(\"[]\")\n",
    "    gogobj = gogobj.split(\"\\n\")\n",
    "    return(gogobj[:-1]) #ignore last element as this has nothing\n",
    "\n",
    "#landmarks 33x\n",
    "markers = ['NOSE', 'LEFT_EYE_INNER', 'LEFT_EYE', 'LEFT_EYE_OUTER', 'RIGHT_EYE_OUTER', 'RIGHT_EYE', 'RIGHT_EYE_OUTER',\n",
    "          'LEFT_EAR', 'RIGHT_EAR', 'MOUTH_LEFT', 'MOUTH_RIGHT', 'LEFT_SHOULDER', 'RIGHT_SHOULDER', 'LEFT_ELBOW', \n",
    "          'RIGHT_ELBOW', 'LEFT_WRIST', 'RIGHT_WRIST', 'LEFT_PINKY', 'RIGHT_PINKY', 'LEFT_INDEX', 'RIGHT_INDEX',\n",
    "          'LEFT_THUMB', 'RIGHT_THUMB', 'LEFT_HIP', 'RIGHT_HIP', 'LEFT_KNEE', 'RIGHT_KNEE', 'LEFT_ANKLE', 'RIGHT_ANKLE',\n",
    "          'LEFT_HEEL', 'RIGHT_HEEL', 'LEFT_FOOT_INDEX', 'RIGHT_FOOT_INDEX']\n",
    "\n",
    "#check if there are numbers in a string\n",
    "def num_there(s):\n",
    "    return any(i.isdigit() for i in s)\n",
    "\n",
    "#make the stringifyd position traces into clean values\n",
    "def listpostions(newsamplemarks):\n",
    "    tracking_p = []\n",
    "    for value in newsamplelmarks:\n",
    "        if num_there(value):\n",
    "            stripped = value.split(':', 1)[1]\n",
    "            stripped = stripped.strip() #remove spaces in the string if present\n",
    "            tracking_p.append(stripped) #add to this list  \n",
    "    return(tracking_p)"
   ]
  },
  {
   "cell_type": "code",
   "execution_count": 10,
   "id": "6925308c",
   "metadata": {},
   "outputs": [],
   "source": [
    "#pose tracking with keypoints save!\n",
    "#make a video file\n",
    "samplerate = fps #make the same as current video\n",
    "fourcc = cv2.VideoWriter_fourcc(*'XVID') #(*'XVID')\n",
    "out = cv2.VideoWriter('Videotracking_output/output.avi', fourcc, fps= samplerate, frameSize = (1280, 720))\n",
    "\n",
    "\n",
    "#make a variable list with x, y, z, info where data is appended to\n",
    "markerxyz = []\n",
    "for mark in markers:\n",
    "    for pos in ['X', 'Y', 'Z', 'visibility']:\n",
    "        nm = pos + \"_\" + mark\n",
    "        markerxyz.append(nm)\n",
    "addvariable = ['time']\n",
    "addvariable.extend(markerxyz)\n",
    "    \n",
    "time = 0\n",
    "timeseries = [addvariable]\n",
    "#MAIN ROUTINE\n",
    "with poseModule.Pose(min_detection_confidence=0.5, model_complexity = 2, min_tracking_confidence=0.75, smooth_landmarks = True) as pose:\n",
    "     while (True):\n",
    "        ret, frame = capture.read()\n",
    "        if ret == True:\n",
    "            results = pose.process(cv2.cvtColor(frame, cv2.COLOR_BGR2RGB))\n",
    "            if results.pose_landmarks != None:\n",
    "                newsamplelmarks = makegoginto_str(results.pose_world_landmarks)\n",
    "                newsamplelmarks = listpostions(newsamplelmarks)\n",
    "                fuldataslice = [str(time)]\n",
    "                fuldataslice.extend(newsamplelmarks) #add positions\n",
    "                timeseries.append(fuldataslice) #append to the timeries data\n",
    "                    #get information about hand index [0], hand confidence [1], handedness [2]              \n",
    "                frame = cv2.cvtColor(frame, cv2.COLOR_RGB2BGR)\n",
    "                drawingModule.draw_landmarks(frame, results.pose_landmarks, poseModule.POSE_CONNECTIONS)\n",
    "                #for point in handsModule.HandLandmark:\n",
    "                    #normalizedLandmark = results.pose_landmarks.landmark[point]\n",
    "                    #pixelCoordinatesLandmark = drawingModule._normalized_to_pixel_coordinates(normalizedLandmark.x, normalizedLandmark.y, frameWidth, frameHeight)\n",
    "                    #cv2.circle(frame, pixelCoordinatesLandmark, 5, (0, 255, 0), -1)\n",
    "            if results.pose_landmarks == None:\n",
    "                timeseries = timeseries.append([\"NA\"]) #add a row of NAs\n",
    "            cv2.imshow('MediaPipe Pose', frame)\n",
    "            out.write(frame)  ################################################comment this if you dont want to make a video\n",
    "            time = round(time+1000/samplerate)\n",
    "            if cv2.waitKey(1) == 27:\n",
    "                break\n",
    "        if ret == False:\n",
    "            break\n",
    "out.release()\n",
    "capture.release()\n",
    "cv2.destroyAllWindows()\n",
    "\n",
    "####################################################### data to be written row-wise in csv fil\n",
    "data = timeseries\n",
    "  \n",
    "# opening the csv file in 'w+' mode\n",
    "file = open(foldtime +'testtimeseries.csv', 'w+', newline ='')\n",
    "#write it\n",
    "with file:    \n",
    "    write = csv.writer(file)\n",
    "    write.writerows(data)"
   ]
  },
  {
   "cell_type": "code",
   "execution_count": 9,
   "id": "db73c2c8",
   "metadata": {},
   "outputs": [],
   "source": []
  },
  {
   "cell_type": "code",
   "execution_count": null,
   "id": "9117b1f0",
   "metadata": {},
   "outputs": [],
   "source": []
  },
  {
   "cell_type": "code",
   "execution_count": null,
   "id": "6ae47b68",
   "metadata": {},
   "outputs": [],
   "source": []
  },
  {
   "cell_type": "code",
   "execution_count": null,
   "id": "a86291d1",
   "metadata": {},
   "outputs": [],
   "source": []
  },
  {
   "cell_type": "code",
   "execution_count": null,
   "id": "586ae54a",
   "metadata": {},
   "outputs": [],
   "source": []
  },
  {
   "cell_type": "code",
   "execution_count": null,
   "id": "4a562d5e",
   "metadata": {},
   "outputs": [],
   "source": []
  },
  {
   "cell_type": "code",
   "execution_count": null,
   "id": "af8734ce",
   "metadata": {},
   "outputs": [],
   "source": []
  },
  {
   "cell_type": "code",
   "execution_count": null,
   "id": "11593c39",
   "metadata": {},
   "outputs": [],
   "source": []
  },
  {
   "cell_type": "code",
   "execution_count": null,
   "id": "4a067422",
   "metadata": {},
   "outputs": [],
   "source": []
  }
 ],
 "metadata": {
  "kernelspec": {
   "display_name": "Python 3",
   "language": "python",
   "name": "python3"
  },
  "language_info": {
   "codemirror_mode": {
    "name": "ipython",
    "version": 3
   },
   "file_extension": ".py",
   "mimetype": "text/x-python",
   "name": "python",
   "nbconvert_exporter": "python",
   "pygments_lexer": "ipython3",
   "version": "3.7.6"
  }
 },
 "nbformat": 4,
 "nbformat_minor": 5
}
