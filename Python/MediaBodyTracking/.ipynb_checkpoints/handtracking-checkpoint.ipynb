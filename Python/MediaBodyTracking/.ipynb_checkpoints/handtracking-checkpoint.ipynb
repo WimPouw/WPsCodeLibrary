{
 "cells": [
  {
   "cell_type": "code",
   "execution_count": null,
   "id": "d258bd72",
   "metadata": {},
   "outputs": [],
   "source": [
    "#https://techtutorialsx.com/2021/04/10/python-hand-landmark-estimation/"
   ]
  },
  {
   "cell_type": "code",
   "execution_count": 61,
   "id": "229b09fd",
   "metadata": {},
   "outputs": [],
   "source": [
    "import cv2\n",
    "import numpy as np\n",
    "import mediapipe\n"
   ]
  },
  {
   "cell_type": "code",
   "execution_count": 62,
   "id": "155d6a84",
   "metadata": {},
   "outputs": [],
   "source": [
    "drawingModule = mediapipe.solutions.drawing_utils\n",
    "handsModule = mediapipe.solutions.hands"
   ]
  },
  {
   "cell_type": "code",
   "execution_count": 64,
   "id": "4a253741",
   "metadata": {},
   "outputs": [],
   "source": [
    "with handsModule.Hands(static_image_mode=True, max_num_hands = 9, min_detection_confidence = 0.001,\n",
    "                      min_tracking_confidence = 0.001) as hands:\n",
    "    image = cv2.imread(\"testimage.jpg\")\n",
    "    imagergb = cv2.cvtColor(image, cv2.COLOR_BGR2RGB)\n",
    "    results = hands.process(imagergb)"
   ]
  },
  {
   "cell_type": "code",
   "execution_count": 65,
   "id": "7e3b9009",
   "metadata": {},
   "outputs": [],
   "source": [
    "for handLandmarks in results.multi_hand_landmarks:\n",
    "      drawingModule.draw_landmarks(image, handLandmarks, handsModule.HAND_CONNECTIONS)\n",
    "\n",
    "cv2.imshow('Test image', image)\n",
    "cv2.waitKey(0)\n",
    "cv2.destroyAllWindows()"
   ]
  },
  {
   "cell_type": "code",
   "execution_count": 67,
   "id": "346da75f",
   "metadata": {},
   "outputs": [],
   "source": [
    "#hand tracking\n",
    "import cv2\n",
    "import mediapipe\n",
    " \n",
    "drawingModule = mediapipe.solutions.drawing_utils\n",
    "handsModule = mediapipe.solutions.hands\n",
    " \n",
    "with handsModule.Hands(static_image_mode=True, max_num_hands = 9, min_detection_confidence = 0.001,\n",
    "                      min_tracking_confidence = 0.001) as hands:\n",
    "    image = cv2.imread(\"testimage.jpg\")\n",
    "    results = hands.process(cv2.cvtColor(image, cv2.COLOR_BGR2RGB))\n",
    "     \n",
    "    # Analysis of the landmarks\n",
    "    imageHeight, imageWidth, _ = image.shape"
   ]
  },
  {
   "cell_type": "code",
   "execution_count": 68,
   "id": "047b71c1",
   "metadata": {},
   "outputs": [],
   "source": [
    "#landmarkds https://google.github.io/mediapipe/solutions/hands.html#hand-landmark-model\n",
    "for handLandmarks in results.multi_hand_landmarks:\n",
    "    # process each hand list of landmarks\n",
    "    for point in handsModule.HandLandmark:\n",
    "        normalizedLandmark = handLandmarks.landmark[point]\n",
    "        pixelCoordinatesLandmark = drawingModule._normalized_to_pixel_coordinates(normalizedLandmark.x, normalizedLandmark.y, imageWidth, imageHeight)\n"
   ]
  },
  {
   "cell_type": "code",
   "execution_count": 69,
   "id": "4c5dd07e",
   "metadata": {},
   "outputs": [
    {
     "name": "stdout",
     "output_type": "stream",
     "text": [
      "HandLandmark.PINKY_TIP\n",
      "(783, 470)\n",
      "x: 0.3629493713378906\n",
      "y: 0.3889296054840088\n",
      "z: 0.011539045721292496\n",
      "\n"
     ]
    }
   ],
   "source": [
    "print(point)\n",
    "print(pixelCoordinatesLandmark)\n",
    "print(normalizedLandmark)"
   ]
  },
  {
   "cell_type": "code",
   "execution_count": null,
   "id": "6db89ff8",
   "metadata": {},
   "outputs": [],
   "source": []
  },
  {
   "cell_type": "code",
   "execution_count": null,
   "id": "72a43346",
   "metadata": {},
   "outputs": [],
   "source": []
  }
 ],
 "metadata": {
  "kernelspec": {
   "display_name": "Python 3",
   "language": "python",
   "name": "python3"
  },
  "language_info": {
   "codemirror_mode": {
    "name": "ipython",
    "version": 3
   },
   "file_extension": ".py",
   "mimetype": "text/x-python",
   "name": "python",
   "nbconvert_exporter": "python",
   "pygments_lexer": "ipython3",
   "version": "3.7.6"
  }
 },
 "nbformat": 4,
 "nbformat_minor": 5
}
